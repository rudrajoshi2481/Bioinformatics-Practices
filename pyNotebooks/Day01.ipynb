{
  "nbformat": 4,
  "nbformat_minor": 0,
  "metadata": {
    "colab": {
      "provenance": [],
      "name": "Day01.ipynb",
      "authorship_tag": "ABX9TyO7MKU3lxtbnqZVOP+cd/Oq",
      "include_colab_link": true
    },
    "kernelspec": {
      "name": "python3",
      "display_name": "Python 3"
    },
    "language_info": {
      "name": "python"
    }
  },
  "cells": [
    {
      "cell_type": "markdown",
      "metadata": {
        "id": "view-in-github",
        "colab_type": "text"
      },
      "source": [
        "<a href=\"https://colab.research.google.com/github/rudrajoshi2481/Bioinformatics-Practices/blob/main/pyNotebooks/Day01.ipynb\" target=\"_parent\"><img src=\"https://colab.research.google.com/assets/colab-badge.svg\" alt=\"Open In Colab\"/></a>"
      ]
    },
    {
      "cell_type": "markdown",
      "source": [
        "# **ESOL : Estimating Aqueous Solublity Directly from Molecular Structure**\n",
        "Research paper: https://pubs.acs.org/doi/10.1021/ci034243x \n"
      ],
      "metadata": {
        "id": "D3Q_vgXnEuSF"
      }
    },
    {
      "cell_type": "markdown",
      "source": [
        "## **Abstract ❤**\n",
        "\n",
        "To predict the solublity (logP) (octanol/water partion coefficient) of the compound by 4 parameters. "
      ],
      "metadata": {
        "id": "25KzW24iFJRn"
      }
    },
    {
      "cell_type": "code",
      "source": [],
      "metadata": {
        "id": "ZKIJYcGkEsXr"
      },
      "execution_count": null,
      "outputs": []
    }
  ]
}